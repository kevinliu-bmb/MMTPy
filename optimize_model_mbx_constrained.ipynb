{
 "cells": [
  {
   "cell_type": "code",
   "execution_count": null,
   "metadata": {},
   "outputs": [],
   "source": [
    "from optimize_model import optimize_model\n",
    "from cobra_utils import (\n",
    "    load_model,\n",
    "    set_default_bounds,\n",
    "    fetch_norm_sample_mbx_data,\n",
    "    fetch_mbx_constr_list,\n",
    "    slack_constraints,\n",
    ")\n",
    "\n",
    "# Define paths\n",
    "json_model_path = \"example_data/models/microbiota_model_diet_Case_1_18_month.json\"\n",
    "matlab_model_path = \"example_data/models/microbiota_model_diet_Case_1_18_month.mat\"\n",
    "mbx_path = \"example_data/metabolomics_data.csv\"\n",
    "avg_eu_diet_path = \"example_data/AverageEU_diet_fluxes.txt\"\n",
    "\n",
    "# Load the model\n",
    "model = load_model(json_model_path)\n",
    "\n",
    "# Set the solver interface\n",
    "model.solver = \"gurobi\"\n",
    "\n",
    "# Get the model-specific metabolomics data\n",
    "mbx_metab_norm_dict = fetch_norm_sample_mbx_data(\n",
    "    model_input=model,\n",
    "    mbx_filepath=mbx_path,\n",
    "    match_key_output_filepath=\"example_outputs\",\n",
    ")\n",
    "\n",
    "# Set all fecal exchange reaction lower bounds to zero\n",
    "set_default_bounds(model)\n",
    "\n",
    "# Fetch and test the constraint list\n",
    "mbx_constraints = fetch_mbx_constr_list(model, mbx_metab_norm_dict)"
   ]
  },
  {
   "cell_type": "code",
   "execution_count": null,
   "metadata": {},
   "outputs": [],
   "source": [
    "# Fetch the slack constraints if possible\n",
    "# FIXME needs to add a check for the pos and neg slack constraints and implement optimization with them\n",
    "slack_constr = slack_constraints(model, mbx_constraints)"
   ]
  },
  {
   "cell_type": "code",
   "execution_count": null,
   "metadata": {},
   "outputs": [],
   "source": [
    "model.problem.objective = 0\n",
    "solution = model.optimize()\n",
    "for name in solution.fluxes.index:\n",
    "    if name.endswith(\"slack\"):\n",
    "        print(f\"{name}\\t{solution.fluxes[name]}\")"
   ]
  },
  {
   "cell_type": "code",
   "execution_count": null,
   "metadata": {},
   "outputs": [],
   "source": [
    "existing_vars = []\n",
    "for var in model.variables:\n",
    "    if (\n",
    "        var.name.endswith(\"_slack_pos\")\n",
    "        or var.name.endswith(\"_slack_neg\")\n",
    "        or var.name.endswith(\"_slack\")\n",
    "    ):\n",
    "        model.remove_cons_vars(var)\n",
    "        existing_vars.append(var.name)\n",
    "\n",
    "print(existing_vars)"
   ]
  },
  {
   "cell_type": "code",
   "execution_count": null,
   "metadata": {},
   "outputs": [],
   "source": [
    "# model.objective = 0\n",
    "# solution = model.optimize()\n",
    "# print(solution.fluxes)"
   ]
  },
  {
   "cell_type": "code",
   "execution_count": null,
   "metadata": {},
   "outputs": [],
   "source": [
    "# for rxn_id in [rxn.id for rxn in model.reactions if rxn.id.startswith(\"EX_\") and rxn.id.endswith(\"[fe]\")]:\n",
    "#     model.objective = model.reactions.get_by_id(rxn_id)\n",
    "#     solution = model.optimize()\n",
    "#     print(f\"{model.reactions.get_by_id(rxn_id).id}:\\t{solution.objective_value}\")"
   ]
  }
 ],
 "metadata": {
  "kernelspec": {
   "display_name": "cobra",
   "language": "python",
   "name": "python3"
  },
  "language_info": {
   "codemirror_mode": {
    "name": "ipython",
    "version": 3
   },
   "file_extension": ".py",
   "mimetype": "text/x-python",
   "name": "python",
   "nbconvert_exporter": "python",
   "pygments_lexer": "ipython3",
   "version": "3.9.16"
  },
  "orig_nbformat": 4
 },
 "nbformat": 4,
 "nbformat_minor": 2
}
